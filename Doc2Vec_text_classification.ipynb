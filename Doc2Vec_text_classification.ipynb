{
  "nbformat": 4,
  "nbformat_minor": 0,
  "metadata": {
    "colab": {
      "provenance": []
    },
    "kernelspec": {
      "name": "python3",
      "display_name": "Python 3"
    },
    "language_info": {
      "name": "python"
    }
  },
  "cells": [
    {
      "cell_type": "code",
      "execution_count": 1,
      "metadata": {
        "colab": {
          "base_uri": "https://localhost:8080/"
        },
        "id": "sgqBRruWTRsg",
        "outputId": "ccddbe2e-421e-454e-d905-d8a2a2197aa6"
      },
      "outputs": [
        {
          "output_type": "stream",
          "name": "stderr",
          "text": [
            "[nltk_data] Downloading package stopwords to /root/nltk_data...\n",
            "[nltk_data]   Unzipping corpora/stopwords.zip.\n"
          ]
        }
      ],
      "source": [
        "import pandas as pd\n",
        "import nltk\n",
        "nltk.download('stopwords')\n",
        "from nltk.tokenize import TweetTokenizer\n",
        "from nltk.corpus import stopwords\n",
        "from sklearn.model_selection import train_test_split\n",
        "from gensim.models.doc2vec import Doc2Vec, TaggedDocument"
      ]
    },
    {
      "cell_type": "code",
      "source": [
        "#Load the dataset and explore.\n",
        "try:\n",
        "    from google.colab import files\n",
        "    !wget -P DATAPATH https://raw.githubusercontent.com/practical-nlp/practical-nlp/master/Ch4/Data/Sentiment%20and%20Emotion%20in%20Text/train_data.csv\n",
        "    !wget -P DATAPATH https://raw.githubusercontent.com/practical-nlp/practical-nlp/master/Ch4/Data/Sentiment%20and%20Emotion%20in%20Text/test_data.csv\n",
        "    !ls -lah DATAPATH\n",
        "    filepath = \"DATAPATH/train_data.csv\"\n",
        "except ModuleNotFoundError:\n",
        "    filepath = \"Data/Sentiment and Emotion in Text/train_data.csv\""
      ],
      "metadata": {
        "colab": {
          "base_uri": "https://localhost:8080/"
        },
        "id": "Rdc8nIH0Ti1m",
        "outputId": "de10f4d8-bf69-4181-c427-711c3eb341fa"
      },
      "execution_count": 35,
      "outputs": [
        {
          "output_type": "stream",
          "name": "stdout",
          "text": [
            "--2024-05-18 05:15:06--  https://raw.githubusercontent.com/practical-nlp/practical-nlp/master/Ch4/Data/Sentiment%20and%20Emotion%20in%20Text/train_data.csv\n",
            "Resolving raw.githubusercontent.com (raw.githubusercontent.com)... 185.199.108.133, 185.199.109.133, 185.199.110.133, ...\n",
            "Connecting to raw.githubusercontent.com (raw.githubusercontent.com)|185.199.108.133|:443... connected.\n",
            "HTTP request sent, awaiting response... 200 OK\n",
            "Length: 2479133 (2.4M) [text/plain]\n",
            "Saving to: ‘DATAPATH/train_data.csv.1’\n",
            "\n",
            "\rtrain_data.csv.1      0%[                    ]       0  --.-KB/s               \rtrain_data.csv.1    100%[===================>]   2.36M  --.-KB/s    in 0.05s   \n",
            "\n",
            "2024-05-18 05:15:06 (47.1 MB/s) - ‘DATAPATH/train_data.csv.1’ saved [2479133/2479133]\n",
            "\n",
            "--2024-05-18 05:15:06--  https://raw.githubusercontent.com/practical-nlp/practical-nlp/master/Ch4/Data/Sentiment%20and%20Emotion%20in%20Text/test_data.csv\n",
            "Resolving raw.githubusercontent.com (raw.githubusercontent.com)... 185.199.108.133, 185.199.109.133, 185.199.110.133, ...\n",
            "Connecting to raw.githubusercontent.com (raw.githubusercontent.com)|185.199.108.133|:443... connected.\n",
            "HTTP request sent, awaiting response... 200 OK\n",
            "Length: 783640 (765K) [text/plain]\n",
            "Saving to: ‘DATAPATH/test_data.csv.1’\n",
            "\n",
            "test_data.csv.1     100%[===================>] 765.27K  --.-KB/s    in 0.03s   \n",
            "\n",
            "2024-05-18 05:15:06 (24.1 MB/s) - ‘DATAPATH/test_data.csv.1’ saved [783640/783640]\n",
            "\n",
            "total 6.3M\n",
            "drwxr-xr-x 2 root root 4.0K May 18 05:15 .\n",
            "drwxr-xr-x 1 root root 4.0K May 18 04:47 ..\n",
            "-rw-r--r-- 1 root root 766K May 18 04:47 test_data.csv\n",
            "-rw-r--r-- 1 root root 766K May 18 05:15 test_data.csv.1\n",
            "-rw-r--r-- 1 root root 2.4M May 18 04:47 train_data.csv\n",
            "-rw-r--r-- 1 root root 2.4M May 18 05:15 train_data.csv.1\n"
          ]
        }
      ]
    },
    {
      "cell_type": "code",
      "source": [
        "df = pd.read_csv(filepath)\n",
        "df.head()"
      ],
      "metadata": {
        "id": "8dvbW2nkWQzJ",
        "colab": {
          "base_uri": "https://localhost:8080/",
          "height": 206
        },
        "outputId": "8c122cd0-1da8-4acd-f3d4-3e6f5c672bd1"
      },
      "execution_count": 36,
      "outputs": [
        {
          "output_type": "execute_result",
          "data": {
            "text/plain": [
              "    sentiment                                            content\n",
              "0       empty  @tiffanylue i know  i was listenin to bad habi...\n",
              "1     sadness  Layin n bed with a headache  ughhhh...waitin o...\n",
              "2     sadness                Funeral ceremony...gloomy friday...\n",
              "3  enthusiasm               wants to hang out with friends SOON!\n",
              "4     neutral  @dannycastillo We want to trade with someone w..."
            ],
            "text/html": [
              "\n",
              "  <div id=\"df-e6ed4e04-f709-4cf2-933d-adcd992612ba\" class=\"colab-df-container\">\n",
              "    <div>\n",
              "<style scoped>\n",
              "    .dataframe tbody tr th:only-of-type {\n",
              "        vertical-align: middle;\n",
              "    }\n",
              "\n",
              "    .dataframe tbody tr th {\n",
              "        vertical-align: top;\n",
              "    }\n",
              "\n",
              "    .dataframe thead th {\n",
              "        text-align: right;\n",
              "    }\n",
              "</style>\n",
              "<table border=\"1\" class=\"dataframe\">\n",
              "  <thead>\n",
              "    <tr style=\"text-align: right;\">\n",
              "      <th></th>\n",
              "      <th>sentiment</th>\n",
              "      <th>content</th>\n",
              "    </tr>\n",
              "  </thead>\n",
              "  <tbody>\n",
              "    <tr>\n",
              "      <th>0</th>\n",
              "      <td>empty</td>\n",
              "      <td>@tiffanylue i know  i was listenin to bad habi...</td>\n",
              "    </tr>\n",
              "    <tr>\n",
              "      <th>1</th>\n",
              "      <td>sadness</td>\n",
              "      <td>Layin n bed with a headache  ughhhh...waitin o...</td>\n",
              "    </tr>\n",
              "    <tr>\n",
              "      <th>2</th>\n",
              "      <td>sadness</td>\n",
              "      <td>Funeral ceremony...gloomy friday...</td>\n",
              "    </tr>\n",
              "    <tr>\n",
              "      <th>3</th>\n",
              "      <td>enthusiasm</td>\n",
              "      <td>wants to hang out with friends SOON!</td>\n",
              "    </tr>\n",
              "    <tr>\n",
              "      <th>4</th>\n",
              "      <td>neutral</td>\n",
              "      <td>@dannycastillo We want to trade with someone w...</td>\n",
              "    </tr>\n",
              "  </tbody>\n",
              "</table>\n",
              "</div>\n",
              "    <div class=\"colab-df-buttons\">\n",
              "\n",
              "  <div class=\"colab-df-container\">\n",
              "    <button class=\"colab-df-convert\" onclick=\"convertToInteractive('df-e6ed4e04-f709-4cf2-933d-adcd992612ba')\"\n",
              "            title=\"Convert this dataframe to an interactive table.\"\n",
              "            style=\"display:none;\">\n",
              "\n",
              "  <svg xmlns=\"http://www.w3.org/2000/svg\" height=\"24px\" viewBox=\"0 -960 960 960\">\n",
              "    <path d=\"M120-120v-720h720v720H120Zm60-500h600v-160H180v160Zm220 220h160v-160H400v160Zm0 220h160v-160H400v160ZM180-400h160v-160H180v160Zm440 0h160v-160H620v160ZM180-180h160v-160H180v160Zm440 0h160v-160H620v160Z\"/>\n",
              "  </svg>\n",
              "    </button>\n",
              "\n",
              "  <style>\n",
              "    .colab-df-container {\n",
              "      display:flex;\n",
              "      gap: 12px;\n",
              "    }\n",
              "\n",
              "    .colab-df-convert {\n",
              "      background-color: #E8F0FE;\n",
              "      border: none;\n",
              "      border-radius: 50%;\n",
              "      cursor: pointer;\n",
              "      display: none;\n",
              "      fill: #1967D2;\n",
              "      height: 32px;\n",
              "      padding: 0 0 0 0;\n",
              "      width: 32px;\n",
              "    }\n",
              "\n",
              "    .colab-df-convert:hover {\n",
              "      background-color: #E2EBFA;\n",
              "      box-shadow: 0px 1px 2px rgba(60, 64, 67, 0.3), 0px 1px 3px 1px rgba(60, 64, 67, 0.15);\n",
              "      fill: #174EA6;\n",
              "    }\n",
              "\n",
              "    .colab-df-buttons div {\n",
              "      margin-bottom: 4px;\n",
              "    }\n",
              "\n",
              "    [theme=dark] .colab-df-convert {\n",
              "      background-color: #3B4455;\n",
              "      fill: #D2E3FC;\n",
              "    }\n",
              "\n",
              "    [theme=dark] .colab-df-convert:hover {\n",
              "      background-color: #434B5C;\n",
              "      box-shadow: 0px 1px 3px 1px rgba(0, 0, 0, 0.15);\n",
              "      filter: drop-shadow(0px 1px 2px rgba(0, 0, 0, 0.3));\n",
              "      fill: #FFFFFF;\n",
              "    }\n",
              "  </style>\n",
              "\n",
              "    <script>\n",
              "      const buttonEl =\n",
              "        document.querySelector('#df-e6ed4e04-f709-4cf2-933d-adcd992612ba button.colab-df-convert');\n",
              "      buttonEl.style.display =\n",
              "        google.colab.kernel.accessAllowed ? 'block' : 'none';\n",
              "\n",
              "      async function convertToInteractive(key) {\n",
              "        const element = document.querySelector('#df-e6ed4e04-f709-4cf2-933d-adcd992612ba');\n",
              "        const dataTable =\n",
              "          await google.colab.kernel.invokeFunction('convertToInteractive',\n",
              "                                                    [key], {});\n",
              "        if (!dataTable) return;\n",
              "\n",
              "        const docLinkHtml = 'Like what you see? Visit the ' +\n",
              "          '<a target=\"_blank\" href=https://colab.research.google.com/notebooks/data_table.ipynb>data table notebook</a>'\n",
              "          + ' to learn more about interactive tables.';\n",
              "        element.innerHTML = '';\n",
              "        dataTable['output_type'] = 'display_data';\n",
              "        await google.colab.output.renderOutput(dataTable, element);\n",
              "        const docLink = document.createElement('div');\n",
              "        docLink.innerHTML = docLinkHtml;\n",
              "        element.appendChild(docLink);\n",
              "      }\n",
              "    </script>\n",
              "  </div>\n",
              "\n",
              "\n",
              "<div id=\"df-61130ba6-09b4-455b-88ea-2b303db6da2b\">\n",
              "  <button class=\"colab-df-quickchart\" onclick=\"quickchart('df-61130ba6-09b4-455b-88ea-2b303db6da2b')\"\n",
              "            title=\"Suggest charts\"\n",
              "            style=\"display:none;\">\n",
              "\n",
              "<svg xmlns=\"http://www.w3.org/2000/svg\" height=\"24px\"viewBox=\"0 0 24 24\"\n",
              "     width=\"24px\">\n",
              "    <g>\n",
              "        <path d=\"M19 3H5c-1.1 0-2 .9-2 2v14c0 1.1.9 2 2 2h14c1.1 0 2-.9 2-2V5c0-1.1-.9-2-2-2zM9 17H7v-7h2v7zm4 0h-2V7h2v10zm4 0h-2v-4h2v4z\"/>\n",
              "    </g>\n",
              "</svg>\n",
              "  </button>\n",
              "\n",
              "<style>\n",
              "  .colab-df-quickchart {\n",
              "      --bg-color: #E8F0FE;\n",
              "      --fill-color: #1967D2;\n",
              "      --hover-bg-color: #E2EBFA;\n",
              "      --hover-fill-color: #174EA6;\n",
              "      --disabled-fill-color: #AAA;\n",
              "      --disabled-bg-color: #DDD;\n",
              "  }\n",
              "\n",
              "  [theme=dark] .colab-df-quickchart {\n",
              "      --bg-color: #3B4455;\n",
              "      --fill-color: #D2E3FC;\n",
              "      --hover-bg-color: #434B5C;\n",
              "      --hover-fill-color: #FFFFFF;\n",
              "      --disabled-bg-color: #3B4455;\n",
              "      --disabled-fill-color: #666;\n",
              "  }\n",
              "\n",
              "  .colab-df-quickchart {\n",
              "    background-color: var(--bg-color);\n",
              "    border: none;\n",
              "    border-radius: 50%;\n",
              "    cursor: pointer;\n",
              "    display: none;\n",
              "    fill: var(--fill-color);\n",
              "    height: 32px;\n",
              "    padding: 0;\n",
              "    width: 32px;\n",
              "  }\n",
              "\n",
              "  .colab-df-quickchart:hover {\n",
              "    background-color: var(--hover-bg-color);\n",
              "    box-shadow: 0 1px 2px rgba(60, 64, 67, 0.3), 0 1px 3px 1px rgba(60, 64, 67, 0.15);\n",
              "    fill: var(--button-hover-fill-color);\n",
              "  }\n",
              "\n",
              "  .colab-df-quickchart-complete:disabled,\n",
              "  .colab-df-quickchart-complete:disabled:hover {\n",
              "    background-color: var(--disabled-bg-color);\n",
              "    fill: var(--disabled-fill-color);\n",
              "    box-shadow: none;\n",
              "  }\n",
              "\n",
              "  .colab-df-spinner {\n",
              "    border: 2px solid var(--fill-color);\n",
              "    border-color: transparent;\n",
              "    border-bottom-color: var(--fill-color);\n",
              "    animation:\n",
              "      spin 1s steps(1) infinite;\n",
              "  }\n",
              "\n",
              "  @keyframes spin {\n",
              "    0% {\n",
              "      border-color: transparent;\n",
              "      border-bottom-color: var(--fill-color);\n",
              "      border-left-color: var(--fill-color);\n",
              "    }\n",
              "    20% {\n",
              "      border-color: transparent;\n",
              "      border-left-color: var(--fill-color);\n",
              "      border-top-color: var(--fill-color);\n",
              "    }\n",
              "    30% {\n",
              "      border-color: transparent;\n",
              "      border-left-color: var(--fill-color);\n",
              "      border-top-color: var(--fill-color);\n",
              "      border-right-color: var(--fill-color);\n",
              "    }\n",
              "    40% {\n",
              "      border-color: transparent;\n",
              "      border-right-color: var(--fill-color);\n",
              "      border-top-color: var(--fill-color);\n",
              "    }\n",
              "    60% {\n",
              "      border-color: transparent;\n",
              "      border-right-color: var(--fill-color);\n",
              "    }\n",
              "    80% {\n",
              "      border-color: transparent;\n",
              "      border-right-color: var(--fill-color);\n",
              "      border-bottom-color: var(--fill-color);\n",
              "    }\n",
              "    90% {\n",
              "      border-color: transparent;\n",
              "      border-bottom-color: var(--fill-color);\n",
              "    }\n",
              "  }\n",
              "</style>\n",
              "\n",
              "  <script>\n",
              "    async function quickchart(key) {\n",
              "      const quickchartButtonEl =\n",
              "        document.querySelector('#' + key + ' button');\n",
              "      quickchartButtonEl.disabled = true;  // To prevent multiple clicks.\n",
              "      quickchartButtonEl.classList.add('colab-df-spinner');\n",
              "      try {\n",
              "        const charts = await google.colab.kernel.invokeFunction(\n",
              "            'suggestCharts', [key], {});\n",
              "      } catch (error) {\n",
              "        console.error('Error during call to suggestCharts:', error);\n",
              "      }\n",
              "      quickchartButtonEl.classList.remove('colab-df-spinner');\n",
              "      quickchartButtonEl.classList.add('colab-df-quickchart-complete');\n",
              "    }\n",
              "    (() => {\n",
              "      let quickchartButtonEl =\n",
              "        document.querySelector('#df-61130ba6-09b4-455b-88ea-2b303db6da2b button');\n",
              "      quickchartButtonEl.style.display =\n",
              "        google.colab.kernel.accessAllowed ? 'block' : 'none';\n",
              "    })();\n",
              "  </script>\n",
              "</div>\n",
              "\n",
              "    </div>\n",
              "  </div>\n"
            ],
            "application/vnd.google.colaboratory.intrinsic+json": {
              "type": "dataframe",
              "variable_name": "df",
              "summary": "{\n  \"name\": \"df\",\n  \"rows\": 30000,\n  \"fields\": [\n    {\n      \"column\": \"sentiment\",\n      \"properties\": {\n        \"dtype\": \"category\",\n        \"num_unique_values\": 13,\n        \"samples\": [\n          \"relief\",\n          \"happiness\",\n          \"empty\"\n        ],\n        \"semantic_type\": \"\",\n        \"description\": \"\"\n      }\n    },\n    {\n      \"column\": \"content\",\n      \"properties\": {\n        \"dtype\": \"string\",\n        \"num_unique_values\": 29939,\n        \"samples\": [\n          \"Back in from LI 2hours ago n still made it to work  yay me\",\n          \"I'm feeling so frustrated...I just can't get things to work!!\",\n          \"cheeks bakery just closed  crazy how williamsburg can support an infinite # of boutiques w/bad clothes and not one decent place 4 a scone\"\n        ],\n        \"semantic_type\": \"\",\n        \"description\": \"\"\n      }\n    }\n  ]\n}"
            }
          },
          "metadata": {},
          "execution_count": 36
        }
      ]
    },
    {
      "cell_type": "code",
      "source": [
        "df.shape"
      ],
      "metadata": {
        "colab": {
          "base_uri": "https://localhost:8080/"
        },
        "id": "kjxKN2fKB4Gn",
        "outputId": "82398020-09c8-4c4f-ead7-1150ed38913c"
      },
      "execution_count": 37,
      "outputs": [
        {
          "output_type": "execute_result",
          "data": {
            "text/plain": [
              "(30000, 2)"
            ]
          },
          "metadata": {},
          "execution_count": 37
        }
      ]
    },
    {
      "cell_type": "code",
      "source": [
        "df['sentiment'].unique()"
      ],
      "metadata": {
        "colab": {
          "base_uri": "https://localhost:8080/"
        },
        "id": "WBYfTJi0B5_h",
        "outputId": "f9d3a34f-8506-46c8-c3f4-20db0f887a61"
      },
      "execution_count": 38,
      "outputs": [
        {
          "output_type": "execute_result",
          "data": {
            "text/plain": [
              "array(['empty', 'sadness', 'enthusiasm', 'neutral', 'worry', 'surprise',\n",
              "       'love', 'fun', 'hate', 'happiness', 'boredom', 'relief', 'anger'],\n",
              "      dtype=object)"
            ]
          },
          "metadata": {},
          "execution_count": 38
        }
      ]
    },
    {
      "cell_type": "code",
      "source": [
        "df['sentiment'].value_counts()"
      ],
      "metadata": {
        "colab": {
          "base_uri": "https://localhost:8080/"
        },
        "id": "H9zLi-axB_Cr",
        "outputId": "7294d0ed-2939-48c9-9135-8fdd1bd18d9e"
      },
      "execution_count": 39,
      "outputs": [
        {
          "output_type": "execute_result",
          "data": {
            "text/plain": [
              "sentiment\n",
              "worry         7433\n",
              "neutral       6340\n",
              "sadness       4828\n",
              "happiness     2986\n",
              "love          2068\n",
              "surprise      1613\n",
              "hate          1187\n",
              "fun           1088\n",
              "relief        1021\n",
              "empty          659\n",
              "enthusiasm     522\n",
              "boredom        157\n",
              "anger           98\n",
              "Name: count, dtype: int64"
            ]
          },
          "metadata": {},
          "execution_count": 39
        }
      ]
    },
    {
      "cell_type": "code",
      "source": [
        "# let's create 2 dataset one will contain top 3 sentiment and other will have till surprise as a test data\n",
        "shortlist = ['neutral' , 'worry' , 'happiness']\n",
        "df_top_3 = df[df['sentiment'].isin(shortlist)]\n",
        "df_top_3.shape"
      ],
      "metadata": {
        "colab": {
          "base_uri": "https://localhost:8080/"
        },
        "id": "VBjDmrVtCWxv",
        "outputId": "ac85f8df-a677-4fc8-c2c8-b0b97e884f3d"
      },
      "execution_count": 40,
      "outputs": [
        {
          "output_type": "execute_result",
          "data": {
            "text/plain": [
              "(16759, 2)"
            ]
          },
          "metadata": {},
          "execution_count": 40
        }
      ]
    },
    {
      "cell_type": "code",
      "source": [
        "shortlist = ['sadness', 'neutral', 'worry', 'surprise',\n",
        "       'love', 'fun', 'hate', 'happiness', 'relief']\n",
        "df_till_relief = df[df['sentiment'].isin(shortlist)]\n",
        "df_till_relief.shape"
      ],
      "metadata": {
        "colab": {
          "base_uri": "https://localhost:8080/"
        },
        "id": "hSVGWBz0C3xE",
        "outputId": "9bbe481a-849f-448f-ad85-3b87f9b57029"
      },
      "execution_count": 41,
      "outputs": [
        {
          "output_type": "execute_result",
          "data": {
            "text/plain": [
              "(28564, 2)"
            ]
          },
          "metadata": {},
          "execution_count": 41
        }
      ]
    },
    {
      "cell_type": "markdown",
      "source": [
        "### Text pre-processing"
      ],
      "metadata": {
        "id": "CU2zTcZdDJlR"
      }
    },
    {
      "cell_type": "code",
      "source": [
        "# let's see first one tweet\n",
        "df['content'].sample()"
      ],
      "metadata": {
        "colab": {
          "base_uri": "https://localhost:8080/"
        },
        "id": "J4EiU5NQDPSF",
        "outputId": "3eeed06a-6607-40b1-fe66-8f67e9f772b6"
      },
      "execution_count": 42,
      "outputs": [
        {
          "output_type": "execute_result",
          "data": {
            "text/plain": [
              "25839    its gonna be a great week! dallas next weekend!!!\n",
              "Name: content, dtype: object"
            ]
          },
          "metadata": {},
          "execution_count": 42
        }
      ]
    },
    {
      "cell_type": "markdown",
      "source": [
        "Tweet are different the text.\n",
        "few thing we need to process.\n",
        "* Removing mentions, and urls if they are in the tweets.\n",
        "* we can use NLTK's Tweet tokenizer instead of a regular one\n",
        "* stopwords removal since i don't think the stopwords matter of the sentiment as compare to the actual words that exhibit those emotions.\n",
        "* also we need to take care of numbers also"
      ],
      "metadata": {
        "id": "OVeHvlaRDm4e"
      }
    },
    {
      "cell_type": "code",
      "source": [
        "# striphandles remove the presonal infos like tweeter handles since they don't contribute to emotions.\n",
        "# preserve_case=False converts everything to lowercase\n",
        "tweeter = TweetTokenizer(strip_handles=True , preserve_case=False)\n",
        "mystopwords = set(stopwords.words('english'))\n",
        "\n",
        "\n",
        "# function to tokenize tweets, remove stopwords and numbers.\n",
        "# Keeping punctuations and emoticon symbols could be relevant since they help understand emotion better.\n",
        "\n",
        "def preprocess_corpus(text):\n",
        "  def remove_stop_digits(tokens):\n",
        "    return [token for token in tokens if token not in mystopwords and token.isdigit()]\n",
        "\n",
        "  return [remove_stop_digits(tweeter.tokenize(content)) for content in text]"
      ],
      "metadata": {
        "id": "8ycUG3dPEFi9"
      },
      "execution_count": 43,
      "outputs": []
    },
    {
      "cell_type": "code",
      "source": [
        "df_top_3_preprocessed = preprocess_corpus(df_top_3['content'])\n",
        "df_top_3_preprocessed_cats = df_top_3['sentiment']\n",
        "\n",
        "df_till_relief_preprocessed = preprocess_corpus(df_till_relief['content'])\n",
        "df_till_relief_preprocessed_cats = df_till_relief['sentiment']"
      ],
      "metadata": {
        "id": "fx44SNVQFfR9"
      },
      "execution_count": 44,
      "outputs": []
    },
    {
      "cell_type": "code",
      "source": [
        "len(df_till_relief_preprocessed), len(df_till_relief_preprocessed_cats)"
      ],
      "metadata": {
        "colab": {
          "base_uri": "https://localhost:8080/"
        },
        "id": "cJkqdvlSHvX0",
        "outputId": "bbd96938-9760-4051-afe7-23ada87ac8a5"
      },
      "execution_count": 46,
      "outputs": [
        {
          "output_type": "execute_result",
          "data": {
            "text/plain": [
              "(28564, 28564)"
            ]
          },
          "metadata": {},
          "execution_count": 46
        }
      ]
    },
    {
      "cell_type": "code",
      "source": [
        "# Split the dataset into train adn test\n",
        "# we will first use the top 3 dataset then til relief one\n",
        "train_data , test_data , train_cats , test_cats = train_test_split(\n",
        "    df_top_3_preprocessed,\n",
        "    df_top_3_preprocessed_cats,\n",
        "    random_state = 1234,\n",
        "    train_size = 0.8\n",
        ")\n",
        "\n",
        "# representation using doc2vec\n",
        "train_doc2vec = [TaggedDocument((d),tags=[str(i)]) for i , d in enumerate(train_data)]\n",
        "\n",
        "# train the doc2vec model\n",
        "model = Doc2Vec(\n",
        "    vector_size=50,\n",
        "    alpha=0.025,\n",
        "    min_count=5,\n",
        "    dm=1,\n",
        "    epochs=100\n",
        ")\n",
        "model.build_vocab(train_doc2vec)\n",
        "model.train(\n",
        "    train_doc2vec,\n",
        "    total_examples = model.corpus_count,\n",
        "    epochs = model.epochs\n",
        ")\n",
        "model.save(\"d2v.model\")\n",
        "print(\"model saved\")"
      ],
      "metadata": {
        "colab": {
          "base_uri": "https://localhost:8080/"
        },
        "id": "tnBRmH_bIDDL",
        "outputId": "ab47f718-4a81-4d52-ccc9-cff5f1360377"
      },
      "execution_count": 52,
      "outputs": [
        {
          "output_type": "stream",
          "name": "stdout",
          "text": [
            "model saved\n"
          ]
        }
      ]
    },
    {
      "cell_type": "code",
      "source": [
        "# make prediction on the feature representation we made for train and test data using are model\n",
        "model = Doc2Vec.load('d2v.model')\n",
        "\n",
        "# make stable representation\n",
        "train_vectors = [model.infer_vector(list_of_tokens , epochs=50) for list_of_tokens in train_data]\n",
        "test_vectors = [model.infer_vector(list_of_tokens , epochs=50) for list_of_tokens in test_data]\n",
        "\n",
        "#use any regular classifier like logistic regression\n",
        "from sklearn.linear_model import LogisticRegression\n",
        "\n",
        "myclass = LogisticRegression(class_weight=\"balanced\") # since classes are not balanced\n",
        "myclass.fit(train_vectors , train_cats)\n",
        "\n",
        "preds = myclass.predict(test_vectors)\n",
        "\n",
        "from sklearn.metrics import classification_report, confusion_matrix\n",
        "print(classification_report(test_cats , preds))"
      ],
      "metadata": {
        "colab": {
          "base_uri": "https://localhost:8080/"
        },
        "id": "2VofNlnKJaoq",
        "outputId": "e3ef69b8-149d-4b79-d5a1-805bdb7d5a76"
      },
      "execution_count": 54,
      "outputs": [
        {
          "output_type": "stream",
          "name": "stdout",
          "text": [
            "              precision    recall  f1-score   support\n",
            "\n",
            "   happiness       0.18      0.23      0.20       584\n",
            "     neutral       0.39      0.49      0.44      1268\n",
            "       worry       0.48      0.33      0.39      1500\n",
            "\n",
            "    accuracy                           0.37      3352\n",
            "   macro avg       0.35      0.35      0.34      3352\n",
            "weighted avg       0.39      0.37      0.38      3352\n",
            "\n"
          ]
        }
      ]
    },
    {
      "cell_type": "markdown",
      "source": [
        "### this code is for relief"
      ],
      "metadata": {
        "id": "igAqvO9bK3f2"
      }
    },
    {
      "cell_type": "code",
      "source": [
        "# Split the dataset into train adn test\n",
        "# we will first use the top 3 dataset then til relief one\n",
        "train_data , test_data , train_cats , test_cats = train_test_split(\n",
        "    df_till_relief_preprocessed,\n",
        "    df_till_relief_preprocessed_cats,\n",
        "    random_state = 1234,\n",
        "    train_size = 0.8\n",
        ")\n",
        "\n",
        "# representation using doc2vec\n",
        "train_doc2vec = [TaggedDocument((d),tags=[str(i)]) for i , d in enumerate(train_data)]\n",
        "\n",
        "# train the doc2vec model\n",
        "model = Doc2Vec(\n",
        "    vector_size=50,\n",
        "    alpha=0.025,\n",
        "    min_count=5,\n",
        "    dm=1,\n",
        "    epochs=100\n",
        ")\n",
        "model.build_vocab(train_doc2vec)\n",
        "model.train(\n",
        "    train_doc2vec,\n",
        "    total_examples = model.corpus_count,\n",
        "    epochs = model.epochs\n",
        ")\n",
        "model.save(\"d2v.model\")\n",
        "print(\"model saved\")"
      ],
      "metadata": {
        "colab": {
          "base_uri": "https://localhost:8080/"
        },
        "id": "_K64kyyXMB1A",
        "outputId": "b798327f-54d5-4b30-e32b-50c979a75d32"
      },
      "execution_count": 55,
      "outputs": [
        {
          "output_type": "stream",
          "name": "stdout",
          "text": [
            "model saved\n"
          ]
        }
      ]
    },
    {
      "cell_type": "code",
      "source": [
        "# make prediction on the feature representation we made for train and test data using are model\n",
        "model = Doc2Vec.load('d2v.model')\n",
        "\n",
        "# make stable representation\n",
        "train_vectors = [model.infer_vector(list_of_tokens , epochs=50) for list_of_tokens in train_data]\n",
        "test_vectors = [model.infer_vector(list_of_tokens , epochs=50) for list_of_tokens in test_data]\n",
        "\n",
        "#use any regular classifier like logistic regression\n",
        "from sklearn.linear_model import LogisticRegression\n",
        "\n",
        "myclass = LogisticRegression(class_weight=\"balanced\") # since classes are not balanced\n",
        "myclass.fit(train_vectors , train_cats)\n",
        "\n",
        "preds = myclass.predict(test_vectors)\n",
        "\n",
        "from sklearn.metrics import classification_report, confusion_matrix\n",
        "print(classification_report(test_cats , preds))"
      ],
      "metadata": {
        "colab": {
          "base_uri": "https://localhost:8080/"
        },
        "id": "qdokFASjMHUG",
        "outputId": "dc10ba4b-c09a-4ce5-a93c-c279910b5ee3"
      },
      "execution_count": 56,
      "outputs": [
        {
          "output_type": "stream",
          "name": "stdout",
          "text": [
            "              precision    recall  f1-score   support\n",
            "\n",
            "         fun       0.04      0.23      0.07       217\n",
            "   happiness       0.12      0.07      0.09       596\n",
            "        hate       0.05      0.05      0.05       234\n",
            "        love       0.07      0.23      0.11       457\n",
            "     neutral       0.27      0.03      0.05      1272\n",
            "      relief       0.05      0.15      0.07       210\n",
            "     sadness       0.17      0.08      0.11       973\n",
            "    surprise       0.06      0.19      0.09       307\n",
            "       worry       0.23      0.02      0.03      1447\n",
            "\n",
            "    accuracy                           0.08      5713\n",
            "   macro avg       0.12      0.12      0.07      5713\n",
            "weighted avg       0.17      0.08      0.07      5713\n",
            "\n"
          ]
        }
      ]
    },
    {
      "cell_type": "code",
      "source": [
        "cm = confusion_matrix(test_cats , preds)"
      ],
      "metadata": {
        "id": "vafsnWxoMJxH"
      },
      "execution_count": 60,
      "outputs": []
    },
    {
      "cell_type": "code",
      "source": [
        "shortlist"
      ],
      "metadata": {
        "colab": {
          "base_uri": "https://localhost:8080/"
        },
        "id": "rmRxAfjfNzkK",
        "outputId": "76fd2013-776f-4b83-edda-fc55a867780c"
      },
      "execution_count": 61,
      "outputs": [
        {
          "output_type": "execute_result",
          "data": {
            "text/plain": [
              "['sadness',\n",
              " 'neutral',\n",
              " 'worry',\n",
              " 'surprise',\n",
              " 'love',\n",
              " 'fun',\n",
              " 'hate',\n",
              " 'happiness',\n",
              " 'relief']"
            ]
          },
          "metadata": {},
          "execution_count": 61
        }
      ]
    },
    {
      "cell_type": "code",
      "source": [
        "#plot the confusion matrix\n",
        "import seaborn as sn\n",
        "import pandas as pd\n",
        "import matplotlib.pyplot as plt\n",
        "df_cm = pd.DataFrame(cm, index = [i for i in shortlist],\n",
        "                     columns = [i for i in shortlist])\n",
        "\n",
        "plt.figure(figsize=(10,7))\n",
        "sn.heatmap(df_cm, annot=True)"
      ],
      "metadata": {
        "colab": {
          "base_uri": "https://localhost:8080/",
          "height": 617
        },
        "id": "pjiYistwM1jl",
        "outputId": "5f80d46e-38da-4132-8a19-753baa4abe06"
      },
      "execution_count": 64,
      "outputs": [
        {
          "output_type": "execute_result",
          "data": {
            "text/plain": [
              "<Axes: >"
            ]
          },
          "metadata": {},
          "execution_count": 64
        },
        {
          "output_type": "display_data",
          "data": {
            "text/plain": [
              "<Figure size 1000x700 with 2 Axes>"
            ],
            "image/png": "[encoded data removed]"
          },
          "metadata": {}
        }
      ]
    },
    {
      "cell_type": "code",
      "source": [],
      "metadata": {
        "id": "hfG1AcVMN-2N"
      },
      "execution_count": null,
      "outputs": []
    }
  ]
}